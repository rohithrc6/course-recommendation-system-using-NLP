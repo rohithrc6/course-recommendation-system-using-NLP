{
  "cells": [
    {
      "cell_type": "code",
      "source": [
        "# !pip install streamlit\n",
        "# !pip install pyngrok"
      ],
      "metadata": {
        "id": "MI90ywIH6pjH"
      },
      "execution_count": 49,
      "outputs": []
    },
    {
      "cell_type": "code",
      "source": [
        "!wget -q -O - ipv4.icanhazip.com"
      ],
      "metadata": {
        "colab": {
          "base_uri": "https://localhost:8080/"
        },
        "id": "_zFCyM3qc3n7",
        "outputId": "76ca7504-feeb-4843-9ad6-6f25ec5a3267"
      },
      "execution_count": 50,
      "outputs": [
        {
          "output_type": "stream",
          "name": "stdout",
          "text": [
            "35.243.245.104\n"
          ]
        }
      ]
    },
    {
      "cell_type": "code",
      "execution_count": 52,
      "metadata": {
        "id": "6IU32960LQsJ",
        "colab": {
          "base_uri": "https://localhost:8080/"
        },
        "outputId": "3f87d4bb-47cf-4447-d642-b039608b2387"
      },
      "outputs": [
        {
          "output_type": "stream",
          "name": "stdout",
          "text": [
            "\u001b[?25l[..................] / rollbackFailedOptional: verb npm-session 7bad4ab227db8e4\u001b[0m\u001b[K\r[..................] / rollbackFailedOptional: verb npm-session 7bad4ab227db8e4\u001b[0m\u001b[K\r[..................] / rollbackFailedOptional: verb npm-session 7bad4ab227db8e4\u001b[0m\u001b[K\r[..................] / rollbackFailedOptional: verb npm-session 7bad4ab227db8e4\u001b[0m\u001b[K\r\n",
            "Collecting usage statistics. To deactivate, set browser.gatherUsageStats to False.\n",
            "\u001b[0m\n",
            "\u001b[0m\n",
            "\u001b[34m\u001b[1m  You can now view your Streamlit app in your browser.\u001b[0m\n",
            "\u001b[0m\n",
            "\u001b[34m  Network URL: \u001b[0m\u001b[1mhttp://172.28.0.12:8501\u001b[0m\n",
            "\u001b[34m  External URL: \u001b[0m\u001b[1mhttp://35.243.245.104:8501\u001b[0m\n",
            "\u001b[0m\n",
            "\u001b[K\u001b[?25hnpx: installed 22 in 3.09s\n",
            "your url is: https://whole-nights-lead.loca.lt\n",
            "2023-11-04 17:28:15.434 Uncaught app exception\n",
            "Traceback (most recent call last):\n",
            "  File \"/usr/local/lib/python3.10/dist-packages/streamlit/runtime/scriptrunner/script_runner.py\", line 534, in _run_script\n",
            "    exec(code, module.__dict__)\n",
            "  File \"/content/web_app_script1.py\", line 78, in <module>\n",
            "    st.dataframe(df, index = False)\n",
            "  File \"/usr/local/lib/python3.10/dist-packages/streamlit/runtime/metrics_util.py\", line 396, in wrapped_func\n",
            "    result = non_optional_func(*args, **kwargs)\n",
            "TypeError: ArrowMixin.dataframe() got an unexpected keyword argument 'index'\n",
            "2023-11-04 17:30:17.230 Uncaught app exception\n",
            "Traceback (most recent call last):\n",
            "  File \"/usr/local/lib/python3.10/dist-packages/streamlit/runtime/scriptrunner/script_runner.py\", line 534, in _run_script\n",
            "    exec(code, module.__dict__)\n",
            "  File \"/content/web_app_script1.py\", line 59, in <module>\n",
            "    recCourseList, recCourseRatings, recCourseDifficulty  = recommend(selected_course)\n",
            "  File \"/content/web_app_script1.py\", line 29, in recommend\n",
            "    courseIndex = courseNames[courseNames['CourseName'] == course].index[0]\n",
            "  File \"/usr/local/lib/python3.10/dist-packages/pandas/core/indexes/base.py\", line 5320, in __getitem__\n",
            "    return getitem(key)\n",
            "IndexError: index 0 is out of bounds for axis 0 with size 0\n",
            "2023-11-04 17:33:58.413 Uncaught app exception\n",
            "Traceback (most recent call last):\n",
            "  File \"/usr/local/lib/python3.10/dist-packages/streamlit/runtime/scriptrunner/script_runner.py\", line 534, in _run_script\n",
            "    exec(code, module.__dict__)\n",
            "  File \"/content/web_app_script1.py\", line 78, in <module>\n",
            "    st.dataframe(df, index = False)\n",
            "  File \"/usr/local/lib/python3.10/dist-packages/streamlit/runtime/metrics_util.py\", line 396, in wrapped_func\n",
            "    result = non_optional_func(*args, **kwargs)\n",
            "TypeError: ArrowMixin.dataframe() got an unexpected keyword argument 'index'\n",
            "\u001b[34m  Stopping...\u001b[0m\n",
            "^C\n"
          ]
        }
      ],
      "source": [
        "!streamlit run web_app_script1.py & npx localtunnel --port 8501"
      ]
    }
  ],
  "metadata": {
    "colab": {
      "provenance": []
    },
    "kernelspec": {
      "display_name": "Python 3",
      "name": "python3"
    },
    "language_info": {
      "name": "python"
    }
  },
  "nbformat": 4,
  "nbformat_minor": 0
}